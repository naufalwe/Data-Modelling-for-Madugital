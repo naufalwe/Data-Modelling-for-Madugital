{
 "cells": [
  {
   "cell_type": "markdown",
   "metadata": {},
   "source": [
    "# Introduction\n",
    "Joni is a CRM manager of Madugital. Madugital sells honey via online. Joni has a leads collection in the form of questionnaire which previously filled by customers who accessed Madugital website. Joni wants to know which types of customer who potentially buy Madugital products and how to approach them in the best way. Let's help Joni by modelling the dataset!"
   ]
  },
  {
   "cell_type": "markdown",
   "metadata": {},
   "source": [
    "## 1. Data Preparation\n",
    "First, let's import some important packages."
   ]
  },
  {
   "cell_type": "code",
   "execution_count": 1,
   "metadata": {},
   "outputs": [],
   "source": [
    "import pandas as pd\n",
    "import numpy as np\n",
    "import matplotlib.pyplot as plt\n",
    "import seaborn as sns\n",
    "import warnings\n",
    "warnings.filterwarnings('ignore')\n",
    "\n",
    "from sklearn.model_selection import train_test_split\n",
    "from sklearn.tree import DecisionTreeClassifier\n",
    "from sklearn.metrics import accuracy_score, precision_score, recall_score"
   ]
  },
  {
   "cell_type": "markdown",
   "metadata": {},
   "source": [
    "### Data Overview"
   ]
  },
  {
   "cell_type": "code",
   "execution_count": 2,
   "metadata": {},
   "outputs": [
    {
     "data": {
      "text/html": [
       "<div>\n",
       "<style scoped>\n",
       "    .dataframe tbody tr th:only-of-type {\n",
       "        vertical-align: middle;\n",
       "    }\n",
       "\n",
       "    .dataframe tbody tr th {\n",
       "        vertical-align: top;\n",
       "    }\n",
       "\n",
       "    .dataframe thead th {\n",
       "        text-align: right;\n",
       "    }\n",
       "</style>\n",
       "<table border=\"1\" class=\"dataframe\">\n",
       "  <thead>\n",
       "    <tr style=\"text-align: right;\">\n",
       "      <th></th>\n",
       "      <th>Prospect ID</th>\n",
       "      <th>Lead Number</th>\n",
       "      <th>Lead Origin</th>\n",
       "      <th>Lead Source</th>\n",
       "      <th>Do Not Email</th>\n",
       "      <th>Do Not Call</th>\n",
       "      <th>Converted</th>\n",
       "      <th>TotalVisits</th>\n",
       "      <th>Total Time Spent on Website</th>\n",
       "      <th>Page Views Per Visit</th>\n",
       "      <th>...</th>\n",
       "      <th>Get updates on DM Content</th>\n",
       "      <th>Lead Profile</th>\n",
       "      <th>City</th>\n",
       "      <th>Asymmetrique Activity Index</th>\n",
       "      <th>Asymmetrique Profile Index</th>\n",
       "      <th>Asymmetrique Activity Score</th>\n",
       "      <th>Asymmetrique Profile Score</th>\n",
       "      <th>I agree to pay the amount through cheque</th>\n",
       "      <th>A free copy of Mastering The Interview</th>\n",
       "      <th>Last Notable Activity</th>\n",
       "    </tr>\n",
       "  </thead>\n",
       "  <tbody>\n",
       "    <tr>\n",
       "      <th>0</th>\n",
       "      <td>7927b2df-8bba-4d29-b9a2-b6e0beafe620</td>\n",
       "      <td>660737</td>\n",
       "      <td>API</td>\n",
       "      <td>Olark Chat</td>\n",
       "      <td>No</td>\n",
       "      <td>No</td>\n",
       "      <td>0</td>\n",
       "      <td>0.0</td>\n",
       "      <td>0</td>\n",
       "      <td>0.0</td>\n",
       "      <td>...</td>\n",
       "      <td>No</td>\n",
       "      <td>Select</td>\n",
       "      <td>Select</td>\n",
       "      <td>02.Medium</td>\n",
       "      <td>02.Medium</td>\n",
       "      <td>15.0</td>\n",
       "      <td>15.0</td>\n",
       "      <td>No</td>\n",
       "      <td>No</td>\n",
       "      <td>Modified</td>\n",
       "    </tr>\n",
       "    <tr>\n",
       "      <th>1</th>\n",
       "      <td>2a272436-5132-4136-86fa-dcc88c88f482</td>\n",
       "      <td>660728</td>\n",
       "      <td>API</td>\n",
       "      <td>Organic Search</td>\n",
       "      <td>No</td>\n",
       "      <td>No</td>\n",
       "      <td>0</td>\n",
       "      <td>5.0</td>\n",
       "      <td>674</td>\n",
       "      <td>2.5</td>\n",
       "      <td>...</td>\n",
       "      <td>No</td>\n",
       "      <td>Select</td>\n",
       "      <td>Select</td>\n",
       "      <td>02.Medium</td>\n",
       "      <td>02.Medium</td>\n",
       "      <td>15.0</td>\n",
       "      <td>15.0</td>\n",
       "      <td>No</td>\n",
       "      <td>No</td>\n",
       "      <td>Email Opened</td>\n",
       "    </tr>\n",
       "    <tr>\n",
       "      <th>2</th>\n",
       "      <td>8cc8c611-a219-4f35-ad23-fdfd2656bd8a</td>\n",
       "      <td>660727</td>\n",
       "      <td>Landing Page Submission</td>\n",
       "      <td>Direct Traffic</td>\n",
       "      <td>No</td>\n",
       "      <td>No</td>\n",
       "      <td>1</td>\n",
       "      <td>2.0</td>\n",
       "      <td>1532</td>\n",
       "      <td>2.0</td>\n",
       "      <td>...</td>\n",
       "      <td>No</td>\n",
       "      <td>Potential Lead</td>\n",
       "      <td>Jakarta</td>\n",
       "      <td>02.Medium</td>\n",
       "      <td>01.High</td>\n",
       "      <td>14.0</td>\n",
       "      <td>20.0</td>\n",
       "      <td>No</td>\n",
       "      <td>Yes</td>\n",
       "      <td>Email Opened</td>\n",
       "    </tr>\n",
       "    <tr>\n",
       "      <th>3</th>\n",
       "      <td>0cc2df48-7cf4-4e39-9de9-19797f9b38cc</td>\n",
       "      <td>660719</td>\n",
       "      <td>Landing Page Submission</td>\n",
       "      <td>Direct Traffic</td>\n",
       "      <td>No</td>\n",
       "      <td>No</td>\n",
       "      <td>0</td>\n",
       "      <td>1.0</td>\n",
       "      <td>305</td>\n",
       "      <td>1.0</td>\n",
       "      <td>...</td>\n",
       "      <td>No</td>\n",
       "      <td>Select</td>\n",
       "      <td>Jakarta</td>\n",
       "      <td>02.Medium</td>\n",
       "      <td>01.High</td>\n",
       "      <td>13.0</td>\n",
       "      <td>17.0</td>\n",
       "      <td>No</td>\n",
       "      <td>No</td>\n",
       "      <td>Modified</td>\n",
       "    </tr>\n",
       "    <tr>\n",
       "      <th>4</th>\n",
       "      <td>3256f628-e534-4826-9d63-4a8b88782852</td>\n",
       "      <td>660681</td>\n",
       "      <td>Landing Page Submission</td>\n",
       "      <td>Google</td>\n",
       "      <td>No</td>\n",
       "      <td>No</td>\n",
       "      <td>1</td>\n",
       "      <td>2.0</td>\n",
       "      <td>1428</td>\n",
       "      <td>1.0</td>\n",
       "      <td>...</td>\n",
       "      <td>No</td>\n",
       "      <td>Select</td>\n",
       "      <td>Jakarta</td>\n",
       "      <td>02.Medium</td>\n",
       "      <td>01.High</td>\n",
       "      <td>15.0</td>\n",
       "      <td>18.0</td>\n",
       "      <td>No</td>\n",
       "      <td>No</td>\n",
       "      <td>Modified</td>\n",
       "    </tr>\n",
       "  </tbody>\n",
       "</table>\n",
       "<p>5 rows × 37 columns</p>\n",
       "</div>"
      ],
      "text/plain": [
       "                            Prospect ID  Lead Number              Lead Origin  \\\n",
       "0  7927b2df-8bba-4d29-b9a2-b6e0beafe620       660737                      API   \n",
       "1  2a272436-5132-4136-86fa-dcc88c88f482       660728                      API   \n",
       "2  8cc8c611-a219-4f35-ad23-fdfd2656bd8a       660727  Landing Page Submission   \n",
       "3  0cc2df48-7cf4-4e39-9de9-19797f9b38cc       660719  Landing Page Submission   \n",
       "4  3256f628-e534-4826-9d63-4a8b88782852       660681  Landing Page Submission   \n",
       "\n",
       "      Lead Source Do Not Email Do Not Call  Converted  TotalVisits  \\\n",
       "0      Olark Chat           No          No          0          0.0   \n",
       "1  Organic Search           No          No          0          5.0   \n",
       "2  Direct Traffic           No          No          1          2.0   \n",
       "3  Direct Traffic           No          No          0          1.0   \n",
       "4          Google           No          No          1          2.0   \n",
       "\n",
       "   Total Time Spent on Website  Page Views Per Visit  ...  \\\n",
       "0                            0                   0.0  ...   \n",
       "1                          674                   2.5  ...   \n",
       "2                         1532                   2.0  ...   \n",
       "3                          305                   1.0  ...   \n",
       "4                         1428                   1.0  ...   \n",
       "\n",
       "  Get updates on DM Content    Lead Profile     City  \\\n",
       "0                        No          Select   Select   \n",
       "1                        No          Select   Select   \n",
       "2                        No  Potential Lead  Jakarta   \n",
       "3                        No          Select  Jakarta   \n",
       "4                        No          Select  Jakarta   \n",
       "\n",
       "  Asymmetrique Activity Index Asymmetrique Profile Index  \\\n",
       "0                   02.Medium                  02.Medium   \n",
       "1                   02.Medium                  02.Medium   \n",
       "2                   02.Medium                    01.High   \n",
       "3                   02.Medium                    01.High   \n",
       "4                   02.Medium                    01.High   \n",
       "\n",
       "  Asymmetrique Activity Score Asymmetrique Profile Score  \\\n",
       "0                        15.0                       15.0   \n",
       "1                        15.0                       15.0   \n",
       "2                        14.0                       20.0   \n",
       "3                        13.0                       17.0   \n",
       "4                        15.0                       18.0   \n",
       "\n",
       "  I agree to pay the amount through cheque  \\\n",
       "0                                       No   \n",
       "1                                       No   \n",
       "2                                       No   \n",
       "3                                       No   \n",
       "4                                       No   \n",
       "\n",
       "  A free copy of Mastering The Interview Last Notable Activity  \n",
       "0                                     No              Modified  \n",
       "1                                     No          Email Opened  \n",
       "2                                    Yes          Email Opened  \n",
       "3                                     No              Modified  \n",
       "4                                     No              Modified  \n",
       "\n",
       "[5 rows x 37 columns]"
      ]
     },
     "execution_count": 2,
     "metadata": {},
     "output_type": "execute_result"
    }
   ],
   "source": [
    "df = pd.read_csv('lead_scoring.csv')\n",
    "df.head()"
   ]
  },
  {
   "cell_type": "code",
   "execution_count": 3,
   "metadata": {},
   "outputs": [
    {
     "data": {
      "text/plain": [
       "(9240, 37)"
      ]
     },
     "execution_count": 3,
     "metadata": {},
     "output_type": "execute_result"
    }
   ],
   "source": [
    "df.shape"
   ]
  },
  {
   "cell_type": "code",
   "execution_count": 4,
   "metadata": {
    "scrolled": true
   },
   "outputs": [
    {
     "name": "stdout",
     "output_type": "stream",
     "text": [
      "<class 'pandas.core.frame.DataFrame'>\n",
      "RangeIndex: 9240 entries, 0 to 9239\n",
      "Data columns (total 37 columns):\n",
      " #   Column                                          Non-Null Count  Dtype  \n",
      "---  ------                                          --------------  -----  \n",
      " 0   Prospect ID                                     9240 non-null   object \n",
      " 1   Lead Number                                     9240 non-null   int64  \n",
      " 2   Lead Origin                                     9240 non-null   object \n",
      " 3   Lead Source                                     9204 non-null   object \n",
      " 4   Do Not Email                                    9240 non-null   object \n",
      " 5   Do Not Call                                     9240 non-null   object \n",
      " 6   Converted                                       9240 non-null   int64  \n",
      " 7   TotalVisits                                     9103 non-null   float64\n",
      " 8   Total Time Spent on Website                     9240 non-null   int64  \n",
      " 9   Page Views Per Visit                            9103 non-null   float64\n",
      " 10  Last Activity                                   9137 non-null   object \n",
      " 11  Country                                         6779 non-null   object \n",
      " 12  Specialization                                  7802 non-null   object \n",
      " 13  How did you hear about Madugital                7033 non-null   object \n",
      " 14  What is your current occupation                 6550 non-null   object \n",
      " 15  What matters most to you in choosing a product  6531 non-null   object \n",
      " 16  Search                                          9240 non-null   object \n",
      " 17  Magazine                                        9240 non-null   object \n",
      " 18  Newspaper Article                               9240 non-null   object \n",
      " 19  Madugital Telegram                              9240 non-null   object \n",
      " 20  Newspaper                                       9240 non-null   object \n",
      " 21  Digital Advertisement                           9240 non-null   object \n",
      " 22  Through Recommendations                         9240 non-null   object \n",
      " 23  Receive More Updates About Our Products         9240 non-null   object \n",
      " 24  Tags                                            5887 non-null   object \n",
      " 25  Lead Quality                                    4473 non-null   object \n",
      " 26  Update me on Supply Chain Content               9240 non-null   object \n",
      " 27  Get updates on DM Content                       9240 non-null   object \n",
      " 28  Lead Profile                                    6531 non-null   object \n",
      " 29  City                                            7820 non-null   object \n",
      " 30  Asymmetrique Activity Index                     5022 non-null   object \n",
      " 31  Asymmetrique Profile Index                      5022 non-null   object \n",
      " 32  Asymmetrique Activity Score                     5022 non-null   float64\n",
      " 33  Asymmetrique Profile Score                      5022 non-null   float64\n",
      " 34  I agree to pay the amount through cheque        9240 non-null   object \n",
      " 35  A free copy of Mastering The Interview          9240 non-null   object \n",
      " 36  Last Notable Activity                           9240 non-null   object \n",
      "dtypes: float64(4), int64(3), object(30)\n",
      "memory usage: 2.6+ MB\n"
     ]
    }
   ],
   "source": [
    "df.info()"
   ]
  },
  {
   "cell_type": "markdown",
   "metadata": {},
   "source": [
    "### Handling Missing Values"
   ]
  },
  {
   "cell_type": "code",
   "execution_count": 5,
   "metadata": {},
   "outputs": [
    {
     "data": {
      "text/plain": [
       "Prospect ID                                          0\n",
       "Lead Number                                          0\n",
       "Lead Origin                                          0\n",
       "Lead Source                                         36\n",
       "Do Not Email                                         0\n",
       "Do Not Call                                          0\n",
       "Converted                                            0\n",
       "TotalVisits                                        137\n",
       "Total Time Spent on Website                          0\n",
       "Page Views Per Visit                               137\n",
       "Last Activity                                      103\n",
       "Country                                           2461\n",
       "Specialization                                    1438\n",
       "How did you hear about Madugital                  2207\n",
       "What is your current occupation                   2690\n",
       "What matters most to you in choosing a product    2709\n",
       "Search                                               0\n",
       "Magazine                                             0\n",
       "Newspaper Article                                    0\n",
       "Madugital Telegram                                   0\n",
       "Newspaper                                            0\n",
       "Digital Advertisement                                0\n",
       "Through Recommendations                              0\n",
       "Receive More Updates About Our Products              0\n",
       "Tags                                              3353\n",
       "Lead Quality                                      4767\n",
       "Update me on Supply Chain Content                    0\n",
       "Get updates on DM Content                            0\n",
       "Lead Profile                                      2709\n",
       "City                                              1420\n",
       "Asymmetrique Activity Index                       4218\n",
       "Asymmetrique Profile Index                        4218\n",
       "Asymmetrique Activity Score                       4218\n",
       "Asymmetrique Profile Score                        4218\n",
       "I agree to pay the amount through cheque             0\n",
       "A free copy of Mastering The Interview               0\n",
       "Last Notable Activity                                0\n",
       "dtype: int64"
      ]
     },
     "execution_count": 5,
     "metadata": {},
     "output_type": "execute_result"
    }
   ],
   "source": [
    "# check if there any missing values\n",
    "df.isnull().sum()"
   ]
  },
  {
   "cell_type": "code",
   "execution_count": 6,
   "metadata": {},
   "outputs": [
    {
     "data": {
      "text/plain": [
       "Prospect ID                                        0.000000\n",
       "Lead Number                                        0.000000\n",
       "Lead Origin                                        0.000000\n",
       "Lead Source                                        0.389610\n",
       "Do Not Email                                       0.000000\n",
       "Do Not Call                                        0.000000\n",
       "Converted                                          0.000000\n",
       "TotalVisits                                        1.482684\n",
       "Total Time Spent on Website                        0.000000\n",
       "Page Views Per Visit                               1.482684\n",
       "Last Activity                                      1.114719\n",
       "Country                                           26.634199\n",
       "Specialization                                    15.562771\n",
       "How did you hear about Madugital                  23.885281\n",
       "What is your current occupation                   29.112554\n",
       "What matters most to you in choosing a product    29.318182\n",
       "Search                                             0.000000\n",
       "Magazine                                           0.000000\n",
       "Newspaper Article                                  0.000000\n",
       "Madugital Telegram                                 0.000000\n",
       "Newspaper                                          0.000000\n",
       "Digital Advertisement                              0.000000\n",
       "Through Recommendations                            0.000000\n",
       "Receive More Updates About Our Products            0.000000\n",
       "Tags                                              36.287879\n",
       "Lead Quality                                      51.590909\n",
       "Update me on Supply Chain Content                  0.000000\n",
       "Get updates on DM Content                          0.000000\n",
       "Lead Profile                                      29.318182\n",
       "City                                              15.367965\n",
       "Asymmetrique Activity Index                       45.649351\n",
       "Asymmetrique Profile Index                        45.649351\n",
       "Asymmetrique Activity Score                       45.649351\n",
       "Asymmetrique Profile Score                        45.649351\n",
       "I agree to pay the amount through cheque           0.000000\n",
       "A free copy of Mastering The Interview             0.000000\n",
       "Last Notable Activity                              0.000000\n",
       "dtype: float64"
      ]
     },
     "execution_count": 6,
     "metadata": {},
     "output_type": "execute_result"
    }
   ],
   "source": [
    "# percentage of missing values in each column\n",
    "df.isna().mean() * 100"
   ]
  },
  {
   "cell_type": "code",
   "execution_count": 7,
   "metadata": {},
   "outputs": [],
   "source": [
    "df_dropped = df.copy()"
   ]
  },
  {
   "cell_type": "code",
   "execution_count": 8,
   "metadata": {},
   "outputs": [
    {
     "data": {
      "text/plain": [
       "array(['Select', 'Word Of Mouth', 'Other', nan, 'Online Search',\n",
       "       'Multiple Sources', 'Advertisements', 'Student of SomeSchool',\n",
       "       'Email', 'Social Media', 'SMS'], dtype=object)"
      ]
     },
     "execution_count": 8,
     "metadata": {},
     "output_type": "execute_result"
    }
   ],
   "source": [
    "# check values in 'How did you hear about Madugital' column\n",
    "df['How did you hear about Madugital'].unique()"
   ]
  },
  {
   "cell_type": "code",
   "execution_count": 9,
   "metadata": {},
   "outputs": [],
   "source": [
    "# fill missing records in 'How did you hear about Madugital' column\n",
    "df_dropped['How did you hear about Madugital'] = df_dropped['How did you hear about Madugital'].fillna('Other')"
   ]
  },
  {
   "cell_type": "code",
   "execution_count": 10,
   "metadata": {},
   "outputs": [
    {
     "data": {
      "text/plain": [
       "array(['Unemployed', 'Student', nan, 'Working Professional',\n",
       "       'Businessman', 'Other', 'Housewife'], dtype=object)"
      ]
     },
     "execution_count": 10,
     "metadata": {},
     "output_type": "execute_result"
    }
   ],
   "source": [
    "# check values in 'What is your current occupation' column\n",
    "df['What is your current occupation'].unique()"
   ]
  },
  {
   "cell_type": "code",
   "execution_count": 11,
   "metadata": {},
   "outputs": [],
   "source": [
    "# fill missing records in 'What is your current occupation' column\n",
    "df_dropped['What is your current occupation'] = df_dropped['What is your current occupation'].fillna('Other')"
   ]
  },
  {
   "cell_type": "code",
   "execution_count": 12,
   "metadata": {
    "scrolled": true
   },
   "outputs": [
    {
     "data": {
      "text/plain": [
       "Prospect ID                                        0.000000\n",
       "Lead Number                                        0.000000\n",
       "Lead Origin                                        0.000000\n",
       "Lead Source                                        0.389610\n",
       "Do Not Email                                       0.000000\n",
       "Do Not Call                                        0.000000\n",
       "Converted                                          0.000000\n",
       "TotalVisits                                        1.482684\n",
       "Total Time Spent on Website                        0.000000\n",
       "Page Views Per Visit                               1.482684\n",
       "Last Activity                                      1.114719\n",
       "Country                                           26.634199\n",
       "Specialization                                    15.562771\n",
       "How did you hear about Madugital                   0.000000\n",
       "What is your current occupation                    0.000000\n",
       "What matters most to you in choosing a product    29.318182\n",
       "Search                                             0.000000\n",
       "Magazine                                           0.000000\n",
       "Newspaper Article                                  0.000000\n",
       "Madugital Telegram                                 0.000000\n",
       "Newspaper                                          0.000000\n",
       "Digital Advertisement                              0.000000\n",
       "Through Recommendations                            0.000000\n",
       "Receive More Updates About Our Products            0.000000\n",
       "Tags                                              36.287879\n",
       "Lead Quality                                      51.590909\n",
       "Update me on Supply Chain Content                  0.000000\n",
       "Get updates on DM Content                          0.000000\n",
       "Lead Profile                                      29.318182\n",
       "City                                              15.367965\n",
       "Asymmetrique Activity Index                       45.649351\n",
       "Asymmetrique Profile Index                        45.649351\n",
       "Asymmetrique Activity Score                       45.649351\n",
       "Asymmetrique Profile Score                        45.649351\n",
       "I agree to pay the amount through cheque           0.000000\n",
       "A free copy of Mastering The Interview             0.000000\n",
       "Last Notable Activity                              0.000000\n",
       "dtype: float64"
      ]
     },
     "execution_count": 12,
     "metadata": {},
     "output_type": "execute_result"
    }
   ],
   "source": [
    "# percentage of missing values in each column\n",
    "df_dropped.isna().mean() * 100"
   ]
  },
  {
   "cell_type": "markdown",
   "metadata": {},
   "source": [
    "We can see that the three related variables or columns have been filled in the new dataframe."
   ]
  },
  {
   "cell_type": "code",
   "execution_count": 13,
   "metadata": {},
   "outputs": [
    {
     "data": {
      "text/plain": [
       "((9240, 37), (9240, 37))"
      ]
     },
     "execution_count": 13,
     "metadata": {},
     "output_type": "execute_result"
    }
   ],
   "source": [
    "df.shape, df_dropped.shape"
   ]
  },
  {
   "cell_type": "markdown",
   "metadata": {},
   "source": [
    "### Check Duplicate Values"
   ]
  },
  {
   "cell_type": "code",
   "execution_count": 14,
   "metadata": {},
   "outputs": [
    {
     "data": {
      "text/plain": [
       "0"
      ]
     },
     "execution_count": 14,
     "metadata": {},
     "output_type": "execute_result"
    }
   ],
   "source": [
    "df.duplicated().sum()"
   ]
  },
  {
   "cell_type": "markdown",
   "metadata": {},
   "source": [
    "### Finding Data Insight"
   ]
  },
  {
   "cell_type": "code",
   "execution_count": 15,
   "metadata": {},
   "outputs": [
    {
     "data": {
      "text/html": [
       "<div>\n",
       "<style scoped>\n",
       "    .dataframe tbody tr th:only-of-type {\n",
       "        vertical-align: middle;\n",
       "    }\n",
       "\n",
       "    .dataframe tbody tr th {\n",
       "        vertical-align: top;\n",
       "    }\n",
       "\n",
       "    .dataframe thead th {\n",
       "        text-align: right;\n",
       "    }\n",
       "</style>\n",
       "<table border=\"1\" class=\"dataframe\">\n",
       "  <thead>\n",
       "    <tr style=\"text-align: right;\">\n",
       "      <th>Converted</th>\n",
       "      <th>0</th>\n",
       "      <th>1</th>\n",
       "    </tr>\n",
       "    <tr>\n",
       "      <th>How did you hear about Madugital</th>\n",
       "      <th></th>\n",
       "      <th></th>\n",
       "    </tr>\n",
       "  </thead>\n",
       "  <tbody>\n",
       "    <tr>\n",
       "      <th>Advertisements</th>\n",
       "      <td>0.004113</td>\n",
       "      <td>0.003463</td>\n",
       "    </tr>\n",
       "    <tr>\n",
       "      <th>Email</th>\n",
       "      <td>0.001407</td>\n",
       "      <td>0.001407</td>\n",
       "    </tr>\n",
       "    <tr>\n",
       "      <th>Multiple Sources</th>\n",
       "      <td>0.010390</td>\n",
       "      <td>0.006061</td>\n",
       "    </tr>\n",
       "    <tr>\n",
       "      <th>Online Search</th>\n",
       "      <td>0.050325</td>\n",
       "      <td>0.037121</td>\n",
       "    </tr>\n",
       "    <tr>\n",
       "      <th>Other</th>\n",
       "      <td>0.220238</td>\n",
       "      <td>0.038745</td>\n",
       "    </tr>\n",
       "    <tr>\n",
       "      <th>SMS</th>\n",
       "      <td>0.001948</td>\n",
       "      <td>0.000541</td>\n",
       "    </tr>\n",
       "    <tr>\n",
       "      <th>Select</th>\n",
       "      <td>0.282684</td>\n",
       "      <td>0.263095</td>\n",
       "    </tr>\n",
       "    <tr>\n",
       "      <th>Social Media</th>\n",
       "      <td>0.004221</td>\n",
       "      <td>0.003030</td>\n",
       "    </tr>\n",
       "    <tr>\n",
       "      <th>Student of SomeSchool</th>\n",
       "      <td>0.018074</td>\n",
       "      <td>0.015476</td>\n",
       "    </tr>\n",
       "    <tr>\n",
       "      <th>Word Of Mouth</th>\n",
       "      <td>0.021212</td>\n",
       "      <td>0.016450</td>\n",
       "    </tr>\n",
       "  </tbody>\n",
       "</table>\n",
       "</div>"
      ],
      "text/plain": [
       "Converted                                0         1\n",
       "How did you hear about Madugital                    \n",
       "Advertisements                    0.004113  0.003463\n",
       "Email                             0.001407  0.001407\n",
       "Multiple Sources                  0.010390  0.006061\n",
       "Online Search                     0.050325  0.037121\n",
       "Other                             0.220238  0.038745\n",
       "SMS                               0.001948  0.000541\n",
       "Select                            0.282684  0.263095\n",
       "Social Media                      0.004221  0.003030\n",
       "Student of SomeSchool             0.018074  0.015476\n",
       "Word Of Mouth                     0.021212  0.016450"
      ]
     },
     "execution_count": 15,
     "metadata": {},
     "output_type": "execute_result"
    }
   ],
   "source": [
    "# calculate the correlation between two variables\n",
    "pd.crosstab(df_dropped['How did you hear about Madugital'], df_dropped['Converted'], normalize = True)"
   ]
  },
  {
   "cell_type": "code",
   "execution_count": 16,
   "metadata": {},
   "outputs": [
    {
     "data": {
      "text/html": [
       "<div>\n",
       "<style scoped>\n",
       "    .dataframe tbody tr th:only-of-type {\n",
       "        vertical-align: middle;\n",
       "    }\n",
       "\n",
       "    .dataframe tbody tr th {\n",
       "        vertical-align: top;\n",
       "    }\n",
       "\n",
       "    .dataframe thead th {\n",
       "        text-align: right;\n",
       "    }\n",
       "</style>\n",
       "<table border=\"1\" class=\"dataframe\">\n",
       "  <thead>\n",
       "    <tr style=\"text-align: right;\">\n",
       "      <th>What is your current occupation</th>\n",
       "      <th>Businessman</th>\n",
       "      <th>Housewife</th>\n",
       "      <th>Other</th>\n",
       "      <th>Student</th>\n",
       "      <th>Unemployed</th>\n",
       "      <th>Working Professional</th>\n",
       "    </tr>\n",
       "    <tr>\n",
       "      <th>How did you hear about Madugital</th>\n",
       "      <th></th>\n",
       "      <th></th>\n",
       "      <th></th>\n",
       "      <th></th>\n",
       "      <th></th>\n",
       "      <th></th>\n",
       "    </tr>\n",
       "  </thead>\n",
       "  <tbody>\n",
       "    <tr>\n",
       "      <th>Advertisements</th>\n",
       "      <td>0.000000</td>\n",
       "      <td>0.000000</td>\n",
       "      <td>0.002165</td>\n",
       "      <td>0.000216</td>\n",
       "      <td>0.004762</td>\n",
       "      <td>0.000433</td>\n",
       "    </tr>\n",
       "    <tr>\n",
       "      <th>Email</th>\n",
       "      <td>0.000000</td>\n",
       "      <td>0.000000</td>\n",
       "      <td>0.000433</td>\n",
       "      <td>0.000000</td>\n",
       "      <td>0.002165</td>\n",
       "      <td>0.000216</td>\n",
       "    </tr>\n",
       "    <tr>\n",
       "      <th>Multiple Sources</th>\n",
       "      <td>0.000000</td>\n",
       "      <td>0.000000</td>\n",
       "      <td>0.004221</td>\n",
       "      <td>0.000216</td>\n",
       "      <td>0.010606</td>\n",
       "      <td>0.001407</td>\n",
       "    </tr>\n",
       "    <tr>\n",
       "      <th>Online Search</th>\n",
       "      <td>0.000108</td>\n",
       "      <td>0.000108</td>\n",
       "      <td>0.022186</td>\n",
       "      <td>0.000758</td>\n",
       "      <td>0.058658</td>\n",
       "      <td>0.005628</td>\n",
       "    </tr>\n",
       "    <tr>\n",
       "      <th>Other</th>\n",
       "      <td>0.000108</td>\n",
       "      <td>0.000108</td>\n",
       "      <td>0.241234</td>\n",
       "      <td>0.001732</td>\n",
       "      <td>0.014069</td>\n",
       "      <td>0.001732</td>\n",
       "    </tr>\n",
       "    <tr>\n",
       "      <th>SMS</th>\n",
       "      <td>0.000000</td>\n",
       "      <td>0.000000</td>\n",
       "      <td>0.001190</td>\n",
       "      <td>0.000000</td>\n",
       "      <td>0.001190</td>\n",
       "      <td>0.000108</td>\n",
       "    </tr>\n",
       "    <tr>\n",
       "      <th>Select</th>\n",
       "      <td>0.000649</td>\n",
       "      <td>0.000866</td>\n",
       "      <td>0.001515</td>\n",
       "      <td>0.018290</td>\n",
       "      <td>0.464610</td>\n",
       "      <td>0.059848</td>\n",
       "    </tr>\n",
       "    <tr>\n",
       "      <th>Social Media</th>\n",
       "      <td>0.000000</td>\n",
       "      <td>0.000000</td>\n",
       "      <td>0.001515</td>\n",
       "      <td>0.000108</td>\n",
       "      <td>0.005303</td>\n",
       "      <td>0.000325</td>\n",
       "    </tr>\n",
       "    <tr>\n",
       "      <th>Student of SomeSchool</th>\n",
       "      <td>0.000000</td>\n",
       "      <td>0.000000</td>\n",
       "      <td>0.007792</td>\n",
       "      <td>0.000866</td>\n",
       "      <td>0.021212</td>\n",
       "      <td>0.003680</td>\n",
       "    </tr>\n",
       "    <tr>\n",
       "      <th>Word Of Mouth</th>\n",
       "      <td>0.000000</td>\n",
       "      <td>0.000000</td>\n",
       "      <td>0.010606</td>\n",
       "      <td>0.000541</td>\n",
       "      <td>0.023485</td>\n",
       "      <td>0.003030</td>\n",
       "    </tr>\n",
       "  </tbody>\n",
       "</table>\n",
       "</div>"
      ],
      "text/plain": [
       "What is your current occupation   Businessman  Housewife     Other   Student  \\\n",
       "How did you hear about Madugital                                               \n",
       "Advertisements                       0.000000   0.000000  0.002165  0.000216   \n",
       "Email                                0.000000   0.000000  0.000433  0.000000   \n",
       "Multiple Sources                     0.000000   0.000000  0.004221  0.000216   \n",
       "Online Search                        0.000108   0.000108  0.022186  0.000758   \n",
       "Other                                0.000108   0.000108  0.241234  0.001732   \n",
       "SMS                                  0.000000   0.000000  0.001190  0.000000   \n",
       "Select                               0.000649   0.000866  0.001515  0.018290   \n",
       "Social Media                         0.000000   0.000000  0.001515  0.000108   \n",
       "Student of SomeSchool                0.000000   0.000000  0.007792  0.000866   \n",
       "Word Of Mouth                        0.000000   0.000000  0.010606  0.000541   \n",
       "\n",
       "What is your current occupation   Unemployed  Working Professional  \n",
       "How did you hear about Madugital                                    \n",
       "Advertisements                      0.004762              0.000433  \n",
       "Email                               0.002165              0.000216  \n",
       "Multiple Sources                    0.010606              0.001407  \n",
       "Online Search                       0.058658              0.005628  \n",
       "Other                               0.014069              0.001732  \n",
       "SMS                                 0.001190              0.000108  \n",
       "Select                              0.464610              0.059848  \n",
       "Social Media                        0.005303              0.000325  \n",
       "Student of SomeSchool               0.021212              0.003680  \n",
       "Word Of Mouth                       0.023485              0.003030  "
      ]
     },
     "execution_count": 16,
     "metadata": {},
     "output_type": "execute_result"
    }
   ],
   "source": [
    "pd.crosstab(df_dropped['How did you hear about Madugital'], df_dropped['What is your current occupation'], normalize = True)"
   ]
  },
  {
   "cell_type": "code",
   "execution_count": 17,
   "metadata": {},
   "outputs": [
    {
     "data": {
      "text/html": [
       "<div>\n",
       "<style scoped>\n",
       "    .dataframe tbody tr th:only-of-type {\n",
       "        vertical-align: middle;\n",
       "    }\n",
       "\n",
       "    .dataframe tbody tr th {\n",
       "        vertical-align: top;\n",
       "    }\n",
       "\n",
       "    .dataframe thead th {\n",
       "        text-align: right;\n",
       "    }\n",
       "</style>\n",
       "<table border=\"1\" class=\"dataframe\">\n",
       "  <thead>\n",
       "    <tr style=\"text-align: right;\">\n",
       "      <th></th>\n",
       "      <th>How did you hear about Madugital_Email</th>\n",
       "      <th>How did you hear about Madugital_Multiple Sources</th>\n",
       "      <th>How did you hear about Madugital_Online Search</th>\n",
       "      <th>How did you hear about Madugital_Other</th>\n",
       "      <th>How did you hear about Madugital_SMS</th>\n",
       "      <th>How did you hear about Madugital_Select</th>\n",
       "      <th>How did you hear about Madugital_Social Media</th>\n",
       "      <th>How did you hear about Madugital_Student of SomeSchool</th>\n",
       "      <th>How did you hear about Madugital_Word Of Mouth</th>\n",
       "      <th>What is your current occupation_Housewife</th>\n",
       "      <th>What is your current occupation_Other</th>\n",
       "      <th>What is your current occupation_Student</th>\n",
       "      <th>What is your current occupation_Unemployed</th>\n",
       "      <th>What is your current occupation_Working Professional</th>\n",
       "    </tr>\n",
       "  </thead>\n",
       "  <tbody>\n",
       "    <tr>\n",
       "      <th>0</th>\n",
       "      <td>0</td>\n",
       "      <td>0</td>\n",
       "      <td>0</td>\n",
       "      <td>0</td>\n",
       "      <td>0</td>\n",
       "      <td>1</td>\n",
       "      <td>0</td>\n",
       "      <td>0</td>\n",
       "      <td>0</td>\n",
       "      <td>0</td>\n",
       "      <td>0</td>\n",
       "      <td>0</td>\n",
       "      <td>1</td>\n",
       "      <td>0</td>\n",
       "    </tr>\n",
       "    <tr>\n",
       "      <th>1</th>\n",
       "      <td>0</td>\n",
       "      <td>0</td>\n",
       "      <td>0</td>\n",
       "      <td>0</td>\n",
       "      <td>0</td>\n",
       "      <td>1</td>\n",
       "      <td>0</td>\n",
       "      <td>0</td>\n",
       "      <td>0</td>\n",
       "      <td>0</td>\n",
       "      <td>0</td>\n",
       "      <td>0</td>\n",
       "      <td>1</td>\n",
       "      <td>0</td>\n",
       "    </tr>\n",
       "    <tr>\n",
       "      <th>2</th>\n",
       "      <td>0</td>\n",
       "      <td>0</td>\n",
       "      <td>0</td>\n",
       "      <td>0</td>\n",
       "      <td>0</td>\n",
       "      <td>1</td>\n",
       "      <td>0</td>\n",
       "      <td>0</td>\n",
       "      <td>0</td>\n",
       "      <td>0</td>\n",
       "      <td>0</td>\n",
       "      <td>1</td>\n",
       "      <td>0</td>\n",
       "      <td>0</td>\n",
       "    </tr>\n",
       "    <tr>\n",
       "      <th>3</th>\n",
       "      <td>0</td>\n",
       "      <td>0</td>\n",
       "      <td>0</td>\n",
       "      <td>0</td>\n",
       "      <td>0</td>\n",
       "      <td>0</td>\n",
       "      <td>0</td>\n",
       "      <td>0</td>\n",
       "      <td>1</td>\n",
       "      <td>0</td>\n",
       "      <td>0</td>\n",
       "      <td>0</td>\n",
       "      <td>1</td>\n",
       "      <td>0</td>\n",
       "    </tr>\n",
       "    <tr>\n",
       "      <th>4</th>\n",
       "      <td>0</td>\n",
       "      <td>0</td>\n",
       "      <td>0</td>\n",
       "      <td>1</td>\n",
       "      <td>0</td>\n",
       "      <td>0</td>\n",
       "      <td>0</td>\n",
       "      <td>0</td>\n",
       "      <td>0</td>\n",
       "      <td>0</td>\n",
       "      <td>0</td>\n",
       "      <td>0</td>\n",
       "      <td>1</td>\n",
       "      <td>0</td>\n",
       "    </tr>\n",
       "  </tbody>\n",
       "</table>\n",
       "</div>"
      ],
      "text/plain": [
       "   How did you hear about Madugital_Email  \\\n",
       "0                                       0   \n",
       "1                                       0   \n",
       "2                                       0   \n",
       "3                                       0   \n",
       "4                                       0   \n",
       "\n",
       "   How did you hear about Madugital_Multiple Sources  \\\n",
       "0                                                  0   \n",
       "1                                                  0   \n",
       "2                                                  0   \n",
       "3                                                  0   \n",
       "4                                                  0   \n",
       "\n",
       "   How did you hear about Madugital_Online Search  \\\n",
       "0                                               0   \n",
       "1                                               0   \n",
       "2                                               0   \n",
       "3                                               0   \n",
       "4                                               0   \n",
       "\n",
       "   How did you hear about Madugital_Other  \\\n",
       "0                                       0   \n",
       "1                                       0   \n",
       "2                                       0   \n",
       "3                                       0   \n",
       "4                                       1   \n",
       "\n",
       "   How did you hear about Madugital_SMS  \\\n",
       "0                                     0   \n",
       "1                                     0   \n",
       "2                                     0   \n",
       "3                                     0   \n",
       "4                                     0   \n",
       "\n",
       "   How did you hear about Madugital_Select  \\\n",
       "0                                        1   \n",
       "1                                        1   \n",
       "2                                        1   \n",
       "3                                        0   \n",
       "4                                        0   \n",
       "\n",
       "   How did you hear about Madugital_Social Media  \\\n",
       "0                                              0   \n",
       "1                                              0   \n",
       "2                                              0   \n",
       "3                                              0   \n",
       "4                                              0   \n",
       "\n",
       "   How did you hear about Madugital_Student of SomeSchool  \\\n",
       "0                                                  0        \n",
       "1                                                  0        \n",
       "2                                                  0        \n",
       "3                                                  0        \n",
       "4                                                  0        \n",
       "\n",
       "   How did you hear about Madugital_Word Of Mouth  \\\n",
       "0                                               0   \n",
       "1                                               0   \n",
       "2                                               0   \n",
       "3                                               1   \n",
       "4                                               0   \n",
       "\n",
       "   What is your current occupation_Housewife  \\\n",
       "0                                          0   \n",
       "1                                          0   \n",
       "2                                          0   \n",
       "3                                          0   \n",
       "4                                          0   \n",
       "\n",
       "   What is your current occupation_Other  \\\n",
       "0                                      0   \n",
       "1                                      0   \n",
       "2                                      0   \n",
       "3                                      0   \n",
       "4                                      0   \n",
       "\n",
       "   What is your current occupation_Student  \\\n",
       "0                                        0   \n",
       "1                                        0   \n",
       "2                                        1   \n",
       "3                                        0   \n",
       "4                                        0   \n",
       "\n",
       "   What is your current occupation_Unemployed  \\\n",
       "0                                           1   \n",
       "1                                           1   \n",
       "2                                           0   \n",
       "3                                           1   \n",
       "4                                           1   \n",
       "\n",
       "   What is your current occupation_Working Professional  \n",
       "0                                                  0     \n",
       "1                                                  0     \n",
       "2                                                  0     \n",
       "3                                                  0     \n",
       "4                                                  0     "
      ]
     },
     "execution_count": 17,
     "metadata": {},
     "output_type": "execute_result"
    }
   ],
   "source": [
    "#get dummies values\n",
    "df_dummies = pd.get_dummies(df_dropped[['How did you hear about Madugital', 'What is your current occupation']], drop_first = True)\n",
    "df_modelling = df_dropped.join(df_dummies)\n",
    "df_dummies.head()"
   ]
  },
  {
   "cell_type": "code",
   "execution_count": 18,
   "metadata": {
    "scrolled": false
   },
   "outputs": [
    {
     "data": {
      "text/plain": [
       "Index(['Prospect ID', 'Lead Number', 'Lead Origin', 'Lead Source',\n",
       "       'Do Not Email', 'Do Not Call', 'Converted', 'TotalVisits',\n",
       "       'Total Time Spent on Website', 'Page Views Per Visit', 'Last Activity',\n",
       "       'Country', 'Specialization', 'How did you hear about Madugital',\n",
       "       'What is your current occupation',\n",
       "       'What matters most to you in choosing a product', 'Search', 'Magazine',\n",
       "       'Newspaper Article', 'Madugital Telegram', 'Newspaper',\n",
       "       'Digital Advertisement', 'Through Recommendations',\n",
       "       'Receive More Updates About Our Products', 'Tags', 'Lead Quality',\n",
       "       'Update me on Supply Chain Content', 'Get updates on DM Content',\n",
       "       'Lead Profile', 'City', 'Asymmetrique Activity Index',\n",
       "       'Asymmetrique Profile Index', 'Asymmetrique Activity Score',\n",
       "       'Asymmetrique Profile Score',\n",
       "       'I agree to pay the amount through cheque',\n",
       "       'A free copy of Mastering The Interview', 'Last Notable Activity',\n",
       "       'How did you hear about Madugital_Email',\n",
       "       'How did you hear about Madugital_Multiple Sources',\n",
       "       'How did you hear about Madugital_Online Search',\n",
       "       'How did you hear about Madugital_Other',\n",
       "       'How did you hear about Madugital_SMS',\n",
       "       'How did you hear about Madugital_Select',\n",
       "       'How did you hear about Madugital_Social Media',\n",
       "       'How did you hear about Madugital_Student of SomeSchool',\n",
       "       'How did you hear about Madugital_Word Of Mouth',\n",
       "       'What is your current occupation_Housewife',\n",
       "       'What is your current occupation_Other',\n",
       "       'What is your current occupation_Student',\n",
       "       'What is your current occupation_Unemployed',\n",
       "       'What is your current occupation_Working Professional'],\n",
       "      dtype='object')"
      ]
     },
     "execution_count": 18,
     "metadata": {},
     "output_type": "execute_result"
    }
   ],
   "source": [
    "#check the columns of dataframe for modelling\n",
    "df_modelling.columns"
   ]
  },
  {
   "cell_type": "code",
   "execution_count": 19,
   "metadata": {},
   "outputs": [],
   "source": [
    "# drop unnecessary columns\n",
    "df_modelling.drop(['Prospect ID', 'Lead Number', 'Lead Origin', 'Lead Source',\n",
    "       'Do Not Email', 'Do Not Call', 'TotalVisits',\n",
    "       'Total Time Spent on Website', 'Page Views Per Visit', 'Last Activity',\n",
    "       'Country', 'Specialization', 'How did you hear about Madugital',\n",
    "       'What is your current occupation',\n",
    "       'What matters most to you in choosing a product', 'Search', 'Magazine',\n",
    "       'Newspaper Article', 'Madugital Telegram', 'Newspaper',\n",
    "       'Digital Advertisement', 'Through Recommendations',\n",
    "       'Receive More Updates About Our Products', 'Tags', 'Lead Quality',\n",
    "       'Update me on Supply Chain Content', 'Get updates on DM Content',\n",
    "       'Lead Profile', 'City', 'Asymmetrique Activity Index',\n",
    "       'Asymmetrique Profile Index', 'Asymmetrique Activity Score',\n",
    "       'Asymmetrique Profile Score',\n",
    "       'I agree to pay the amount through cheque',\n",
    "       'A free copy of Mastering The Interview', 'Last Notable Activity'], axis = 1, inplace = True)"
   ]
  },
  {
   "cell_type": "markdown",
   "metadata": {},
   "source": [
    "### Modelling Preparation"
   ]
  },
  {
   "cell_type": "code",
   "execution_count": 20,
   "metadata": {},
   "outputs": [],
   "source": [
    "train, test = train_test_split(df_modelling, test_size = 0.3, random_state = 10)"
   ]
  },
  {
   "cell_type": "code",
   "execution_count": 21,
   "metadata": {},
   "outputs": [
    {
     "data": {
      "text/plain": [
       "((6468, 15), (2772, 15))"
      ]
     },
     "execution_count": 21,
     "metadata": {},
     "output_type": "execute_result"
    }
   ],
   "source": [
    "train.shape, test.shape"
   ]
  },
  {
   "cell_type": "code",
   "execution_count": 22,
   "metadata": {},
   "outputs": [
    {
     "data": {
      "text/plain": [
       "Index(['Converted', 'How did you hear about Madugital_Email',\n",
       "       'How did you hear about Madugital_Multiple Sources',\n",
       "       'How did you hear about Madugital_Online Search',\n",
       "       'How did you hear about Madugital_Other',\n",
       "       'How did you hear about Madugital_SMS',\n",
       "       'How did you hear about Madugital_Select',\n",
       "       'How did you hear about Madugital_Social Media',\n",
       "       'How did you hear about Madugital_Student of SomeSchool',\n",
       "       'How did you hear about Madugital_Word Of Mouth',\n",
       "       'What is your current occupation_Housewife',\n",
       "       'What is your current occupation_Other',\n",
       "       'What is your current occupation_Student',\n",
       "       'What is your current occupation_Unemployed',\n",
       "       'What is your current occupation_Working Professional'],\n",
       "      dtype='object')"
      ]
     },
     "execution_count": 22,
     "metadata": {},
     "output_type": "execute_result"
    }
   ],
   "source": [
    "train.columns"
   ]
  },
  {
   "cell_type": "markdown",
   "metadata": {},
   "source": [
    "### Modelling"
   ]
  },
  {
   "cell_type": "code",
   "execution_count": 23,
   "metadata": {},
   "outputs": [
    {
     "data": {
      "text/plain": [
       "DecisionTreeClassifier(random_state=10)"
      ]
     },
     "execution_count": 23,
     "metadata": {},
     "output_type": "execute_result"
    }
   ],
   "source": [
    "# Decision Tree Classifier\n",
    "X_train = train.drop(['Converted'], 1)\n",
    "y_train = train['Converted']\n",
    "\n",
    "X_test = test.drop(['Converted'], 1)\n",
    "y_test = test['Converted']\n",
    "\n",
    "dt = DecisionTreeClassifier(random_state = 10)\n",
    "dt.fit(X_train,y_train)"
   ]
  },
  {
   "cell_type": "code",
   "execution_count": 24,
   "metadata": {},
   "outputs": [
    {
     "data": {
      "text/plain": [
       "array([0, 0, 0, ..., 0, 0, 0], dtype=int64)"
      ]
     },
     "execution_count": 24,
     "metadata": {},
     "output_type": "execute_result"
    }
   ],
   "source": [
    "dt.predict(X_test)"
   ]
  },
  {
   "cell_type": "code",
   "execution_count": 25,
   "metadata": {},
   "outputs": [
    {
     "data": {
      "text/plain": [
       "567     0\n",
       "2303    0\n",
       "1523    0\n",
       "6923    0\n",
       "7841    0\n",
       "       ..\n",
       "9124    0\n",
       "1049    0\n",
       "7778    0\n",
       "6432    0\n",
       "924     0\n",
       "Name: Converted, Length: 2772, dtype: int64"
      ]
     },
     "execution_count": 25,
     "metadata": {},
     "output_type": "execute_result"
    }
   ],
   "source": [
    "y_test"
   ]
  },
  {
   "cell_type": "markdown",
   "metadata": {},
   "source": [
    "### Modelling Evaluation"
   ]
  },
  {
   "cell_type": "code",
   "execution_count": 26,
   "metadata": {},
   "outputs": [
    {
     "name": "stdout",
     "output_type": "stream",
     "text": [
      "0.6778499278499278 0.8598130841121495 0.17574021012416427\n"
     ]
    }
   ],
   "source": [
    "y_pred = dt.predict(X_test)\n",
    "accuracy = accuracy_score(y_test, y_pred)\n",
    "precision = precision_score(y_test, y_pred)\n",
    "recall = recall_score(y_test, y_pred)\n",
    "print(accuracy, precision, recall)"
   ]
  }
 ],
 "metadata": {
  "kernelspec": {
   "display_name": "Python 3 (ipykernel)",
   "language": "python",
   "name": "python3"
  },
  "language_info": {
   "codemirror_mode": {
    "name": "ipython",
    "version": 3
   },
   "file_extension": ".py",
   "mimetype": "text/x-python",
   "name": "python",
   "nbconvert_exporter": "python",
   "pygments_lexer": "ipython3",
   "version": "3.9.12"
  },
  "vscode": {
   "interpreter": {
    "hash": "64b5c8939460469f2cb012c0a1676a4bbdc1a261af2015b875e36a9d9f6be88c"
   }
  }
 },
 "nbformat": 4,
 "nbformat_minor": 2
}
